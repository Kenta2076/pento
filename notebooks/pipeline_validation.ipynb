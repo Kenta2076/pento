{
 "cells": [
  {
   "cell_type": "markdown",
   "metadata": {},
   "source": "# Pentomino pipeline validation\n\nこのノートブックでは、画像処理パイプラインの各ステージを段階的に実行し、途中結果を可視化するための手順をまとめています。",
   "id": "c5a0b876ae434cf0bfe8f8b9279fc2e1"
  },
  {
   "cell_type": "markdown",
   "metadata": {},
   "source": "## 使い方\n1. `assets/puzzles/` フォルダに解析したい盤面画像を配置します。\n2. 下記の `IMAGE_PATH` 変数をそのファイルに合わせて更新します。\n3. 以降のセルを上から順に実行し、各ステージの出力を確認します。",
   "id": "539910b69ebb4f47b63a2e5d2da41bde"
  },
  {
   "cell_type": "code",
   "metadata": {},
   "execution_count": null,
   "outputs": [],
   "source": "from pathlib import Path\nimport logging\n\nimport numpy as np\n\nfrom pento import preprocessing, segmentation, classification, normalization\nfrom pento.pipeline import PentominoArchiver\nfrom pento.storage import JsonSolutionArchive\nfrom pento.visualization import (\n    format_label_grid,\n    grid_to_labeled_pieces,\n    labeled_pieces_to_grid,\n    plot_grid_cells,\n    plot_label_grid,\n    show_board_image,\n)\n\nlogging.basicConfig(level=logging.INFO)",
   "id": "1d71abf9c59c4a47bc583300a121c688"
  },
  {
   "cell_type": "code",
   "metadata": {},
   "execution_count": null,
   "outputs": [],
   "source": "IMAGE_PATH = Path('assets/puzzles/sample.jpg')  # <- 解析したい画像に変更\nARCHIVE_PATH = Path('notebooks/solutions.jsonl')\n\nIMAGE_PATH, ARCHIVE_PATH",
   "id": "d6a5dfdd17bf451a8c7cc123d74ecae6"
  },
  {
   "cell_type": "code",
   "metadata": {},
   "execution_count": null,
   "outputs": [],
   "source": "# 1. 画像読み込みと盤面抽出\noriginal = preprocessing.load_image(IMAGE_PATH)\nboard = preprocessing.extract_board_region(original)\n\nshow_board_image(board, title='Extracted board view')",
   "id": "84deb601e2f841f2ade44d17bb7e69eb"
  },
  {
   "cell_type": "code",
   "metadata": {},
   "execution_count": null,
   "outputs": [],
   "source": "# 2. グリッド分割\ngrid_cells = segmentation.segment_grid(board)\ngrid_cells.shape",
   "id": "6841a18d05ce47ac9b994645fd1dfcb0"
  },
  {
   "cell_type": "code",
   "metadata": {},
   "execution_count": null,
   "outputs": [],
   "source": "# (任意) 分割結果をまとめて可視化\nfig, _ = plot_grid_cells(grid_cells)\nfig",
   "id": "1e0f5d7ffd254553895160b9690b352d"
  },
  {
   "cell_type": "markdown",
   "metadata": {},
   "source": [
    "### 3. ピース識別\n",
    "デモ用として、このノートブックでは 6×10 のサンプルラベルグリッド `SYNTHETIC_LABEL_GRID` を定義しています。実際の盤面に合わせたラベルが得られたら、この配列を差し替えてください。分類器が実装済みであれば `classification.label_pieces(grid_cells)` を直接呼び出して自動推論を行えます。\n"
   ],
   "id": "d60211de8dc146b49481001036a5d335"
  },
  {
   "cell_type": "code",
   "metadata": {},
   "execution_count": null,
   "outputs": [],
   "source": [
    "SYNTHETIC_LABEL_GRID = np.array([\n",
    "    list(\"FFFFFIIIII\"),\n",
    "    list(\"LLLLLPPPPP\"),\n",
    "    list(\"NNNNNTTTTT\"),\n",
    "    list(\"UUUUUVVVVV\"),\n",
    "    list(\"WWWWWXXXXX\"),\n",
    "    list(\"YYYYYZZZZZ\"),\n",
    "], dtype=\"<U1\")\n",
    "\n",
    "label_grid = SYNTHETIC_LABEL_GRID.copy()\n",
    "print(format_label_grid(label_grid))\n",
    "plot_label_grid(label_grid)\n",
    "\n",
    "pieces = classification.label_pieces(label_grid)\n",
    "[piece.name for piece in pieces]\n"
   ],
   "id": "f92b22fb89f74ea59227ab5b54070d87"
  },
  {
   "cell_type": "markdown",
   "metadata": {},
   "source": [
    "### 4. 正規化とアーカイブ\n",
    "分類結果 `pieces` を正規化処理に渡すと、共通フォーマットの盤面表現を得られます。生成されたグリッドはアーカイブ保存や比較に利用できます。\n"
   ],
   "id": "a703132f82724414a3afa26393adc0fb"
  },
  {
   "cell_type": "code",
   "metadata": {},
   "execution_count": null,
   "outputs": [],
   "source": [
    "label_grid_from_pieces = labeled_pieces_to_grid(pieces)\n",
    "print(format_label_grid(label_grid_from_pieces))\n",
    "plot_label_grid(label_grid_from_pieces)\n",
    "\n",
    "canonical = normalization.to_canonical_solution(pieces)\n",
    "canonical.grid\n"
   ],
   "id": "71f565db4c5a4a7b8f395e3821a70c11"
  },
  {
   "cell_type": "markdown",
   "metadata": {},
   "source": "## パイプライン全体をまとめて動かす\n分類器が実装済みであれば、`PentominoArchiver` を使って一括実行できます。\nログ出力で各ステージの進行状況を確認してください。",
   "id": "aa2d06fb5c914378848bd01dc6c18014"
  },
  {
   "cell_type": "code",
   "metadata": {},
   "execution_count": null,
   "outputs": [],
   "source": "# archiver = PentominoArchiver(archive=JsonSolutionArchive(ARCHIVE_PATH))\n# result = archiver.process(IMAGE_PATH)\n# display(result.canonical_solution.grid)\n# plot_label_grid(labeled_pieces_to_grid(result.labeled_pieces))",
   "id": "f2ceeb5c209b4ca3a97e36b86cf578be"
  }
 ],
 "metadata": {
  "kernelspec": {
   "display_name": "Python 3",
   "language": "python",
   "name": "python3"
  },
  "language_info": {
   "name": "python",
   "version": "3.11"
  }
 },
 "nbformat": 4,
 "nbformat_minor": 5
}