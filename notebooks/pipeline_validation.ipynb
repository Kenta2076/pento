{
 "cells": [
  {
   "cell_type": "markdown",
   "metadata": {},
   "source": [
    "# Pipeline validation helper\n",
    "\n",
    "This notebook provides a synthetic label grid that can be fed to `classification.label_pieces` so the later stages of the pipeline can be exercised without running a classifier."
   ]
  },
  {
   "cell_type": "code",
   "execution_count": null,
   "metadata": {},
   "outputs": [],
   "source": [
    "from __future__ import annotations\n",
    "\n",
    "import numpy as np\n",
    "\n",
    "from pento import classification\n",
    "from pento.segmentation import GRID_HEIGHT, GRID_WIDTH\n"
   ]
  },
  {
   "cell_type": "markdown",
   "metadata": {},
   "source": [
    "## Synthetic label grid\n",
    "\n",
    "The grid below encodes the 6×10 board with one pentomino label per cell. Replace this array with the output of your classifier when real predictions are available."
   ]
  },
  {
   "cell_type": "code",
   "execution_count": null,
   "metadata": {},
   "outputs": [],
   "source": [
    "synthetic_label_grid = np.array(\n",
    "    [\n",
    "        list('FFIILLPPNN'),\n",
    "        list('FFIILLPPNN'),\n",
    "        list('TTVVVWWWXX'),\n",
    "        list('TTUUUVWWXX'),\n",
    "        list('TUUUUVWWYY'),\n",
    "        list('ZZZZZYYYYY'),\n",
    "    ]\n",
    ")\n",
    "\n",
    "assert synthetic_label_grid.shape == (GRID_HEIGHT, GRID_WIDTH)\n",
    "synthetic_label_grid\n"
   ]
  },
  {
   "cell_type": "markdown",
   "metadata": {},
   "source": [
    "## Classification demo\n",
    "\n",
    "`classification.label_pieces` accepts segmented cells. The helper below wraps the synthetic label grid in singleton height/width dimensions so it mimics the classifier output."
   ]
  },
  {
   "cell_type": "code",
   "execution_count": null,
   "metadata": {},
   "outputs": [],
   "source": [
    "grid_cells = synthetic_label_grid[..., None, None]\n",
    "pieces = classification.label_pieces(grid_cells)\n",
    "\n",
    "[(piece.name, int(piece.mask.sum())) for piece in pieces]\n"
   ]
  }
 ],
 "metadata": {
  "kernelspec": {
   "display_name": "Python 3",
   "language": "python",
   "name": "python3"
  },
  "language_info": {
   "codemirror_mode": {
    "name": "ipython",
    "version": 3
   },
   "file_extension": ".py",
   "mimetype": "text/x-python",
   "name": "python",
   "nbconvert_exporter": "python",
   "pygments_lexer": "ipython3",
   "version": "3.11"
  }
 },
 "nbformat": 4,
 "nbformat_minor": 5
}
