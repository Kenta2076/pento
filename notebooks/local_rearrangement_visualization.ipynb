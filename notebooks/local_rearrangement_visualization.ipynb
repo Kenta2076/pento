{
  "cells": [
    {
      "cell_type": "markdown",
      "metadata": {},
      "source": [
        "# Local rearrangement visualization\n",
        "\n",
        "Explore how `pento.rearrangement` searches for alternative placements of pentomino pieces.\n"
      ]
    },
    {
      "cell_type": "markdown",
      "metadata": {},
      "source": [
        "## What `find_local_rearrangements` does\n",
        "\n",
        "The helper searches every subset of pentomino pieces whose size falls between the requested `min_subset_size` and `max_subset_size`. For each subset it:\n",
        "\n",
        "1. Collects every valid placement of the subset that stays within the cells originally occupied by the subset.\n",
        "2. Performs a backtracking search to look for a conflict-free combination of those placements.\n",
        "3. Returns the first combination that changes at least one piece position while keeping the rest of the board intact.\n",
        "\n",
        "`trace_local_rearrangements` exposes the same search results but also records each placement that was tried, skipped because of overlaps, accepted, or backtracked.\n"
      ]
    },
    {
      "cell_type": "code",
      "execution_count": 2,
      "id": "36b4ce0b",
      "metadata": {},
      "outputs": [
        {
          "name": "stdout",
          "output_type": "stream",
          "text": [
            "/workspaces/pento\n"
          ]
        }
      ],
      "source": [
        "cd /workspaces/pento/"
      ]
    },
    {
      "cell_type": "code",
      "execution_count": 3,
      "metadata": {},
      "outputs": [
        {
          "name": "stdout",
          "output_type": "stream",
          "text": [
            "Loaded solution grid with shape (6, 10)\n"
          ]
        }
      ],
      "source": [
        "import sys\n",
        "\n",
        "import numpy as np\n",
        "import matplotlib.pyplot as plt\n",
        "from IPython.display import display\n",
        "\n",
        "try:\n",
        "    import pandas as pd\n",
        "except ImportError:  # pragma: no cover - optional dependency in notebooks\n",
        "    pd = None\n",
        "\n",
        "from pathlib import Path\n",
        "\n",
        "def _find_src_path():\n",
        "    cwd = Path.cwd().resolve()\n",
        "    search_roots = [cwd, *cwd.parents]\n",
        "    for root in search_roots:\n",
        "        direct_src = root / 'src'\n",
        "        if (direct_src / 'pento').exists():\n",
        "            return direct_src\n",
        "        nested_src = root / 'pento' / 'src'\n",
        "        if (nested_src / 'pento').exists():\n",
        "            return nested_src\n",
        "    raise RuntimeError('Could not locate src directory for pento package.')\n",
        "\n",
        "src_path = _find_src_path()\n",
        "if str(src_path) not in sys.path:\n",
        "    sys.path.insert(0, str(src_path))\n",
        "\n",
        "from pento.rearrangement import find_local_rearrangements, trace_local_rearrangements\n",
        "from pento.visualization import plot_colored_label_grid\n",
        "\n",
        "def sample_solution():\n",
        "    \"\"\"Return the canonical 6×10 solution used in the unit tests.\"\"\"\n",
        "    from tests.test_rearrangement import _sample_solution\n",
        "\n",
        "    return _sample_solution()\n",
        "\n",
        "solution_grid = sample_solution()\n",
        "print(\"Loaded solution grid with shape\", solution_grid.shape)\n"
      ]
    },
    {
      "cell_type": "markdown",
      "metadata": {},
      "source": [
        "## Visualize the starting solution\n",
        "\n",
        "The plot below colours each pentomino so the layout is easier to parse at a glance.\n"
      ]
    },
    {
      "cell_type": "code",
      "execution_count": null,
      "metadata": {},
      "outputs": [],
      "source": [
        "fig, ax = plt.subplots(figsize=(8, 5))\n",
        "plot_colored_label_grid(solution_grid, ax=ax, title=\"Original solution\")\n",
        "plt.show()\n"
      ]
    },
    {
      "cell_type": "markdown",
      "metadata": {},
      "source": [
        "## Run the rearrangement search\n",
        "\n",
        "Adjust the search bounds below to explore different subsets. Limiting `max_results` keeps the output compact while prototyping.\n"
      ]
    },
    {
      "cell_type": "code",
      "execution_count": null,
      "metadata": {},
      "outputs": [],
      "source": [
        "min_subset = 2\n",
        "max_subset = None  # Set to an integer to cap the subset size.\n",
        "max_results = 3\n",
        "\n",
        "rearrangements = find_local_rearrangements(\n",
        "    solution_grid,\n",
        "    min_subset_size=min_subset,\n",
        "    max_subset_size=max_subset,\n",
        "    max_results=max_results,\n",
        ")\n",
        "\n",
        "print(f\"Found {len(rearrangements)} rearrangement(s).\")\n",
        "for index, alt in enumerate(rearrangements, start=1):\n",
        "    print(f\"#{index}: pieces {alt.pieces}\")\n"
      ]
    },
    {
      "cell_type": "markdown",
      "metadata": {},
      "source": [
        "## Inspect one rearrangement in detail\n",
        "\n",
        "Update `selection_index` to focus on a different result. The helper below plots the original subset alongside its alternative placement and summarises the search trace.\n"
      ]
    },
    {
      "cell_type": "code",
      "execution_count": null,
      "metadata": {},
      "outputs": [],
      "source": [
        "selection_index = 0  # zero-based index into `rearrangements`\n",
        "\n",
        "if not rearrangements:\n",
        "    raise ValueError(\"No rearrangements available. Re-run the search with different limits.\")\n",
        "\n",
        "selection = rearrangements[selection_index]\n",
        "subset = selection.pieces\n",
        "\n",
        "traced = trace_local_rearrangements(\n",
        "    solution_grid,\n",
        "    min_subset_size=min_subset,\n",
        "    max_subset_size=max_subset,\n",
        "    max_results=selection_index + 1,\n",
        ")\n",
        "traced_selection = traced[selection_index]\n",
        "_, steps = traced_selection\n",
        "\n",
        "fig, axes = plt.subplots(1, 2, figsize=(14, 5), constrained_layout=True)\n",
        "plot_colored_label_grid(\n",
        "    solution_grid,\n",
        "    ax=axes[0],\n",
        "    title=\"Original subset highlighted\",\n",
        "    highlight=subset,\n",
        ")\n",
        "plot_colored_label_grid(\n",
        "    selection.alternative_grid,\n",
        "    ax=axes[1],\n",
        "    title=\"Alternative placement\",\n",
        "    highlight=subset,\n",
        ")\n",
        "for ax in axes:\n",
        "    ax.set_xlabel(\"columns\")\n",
        "    ax.set_ylabel(\"rows\")\n",
        "plt.show()\n",
        "\n",
        "rows = [\n",
        "    {\n",
        "        \"step\": idx,\n",
        "        \"depth\": step.depth,\n",
        "        \"piece\": step.piece or \"-\",\n",
        "        \"status\": step.status,\n",
        "        \"cells\": sorted(step.placement) if step.placement is not None else [],\n",
        "    }\n",
        "    for idx, step in enumerate(steps)\n",
        "]\n",
        "\n",
        "if pd is not None:\n",
        "    display(pd.DataFrame(rows))\n",
        "else:\n",
        "    for row in rows:\n",
        "        print(row)\n"
      ]
    },
    {
      "cell_type": "markdown",
      "metadata": {},
      "source": [
        "## Swap in your own solution\n",
        "\n",
        "Replace `solution_grid = sample_solution()` in the setup cell with any 6×10 array of pentomino labels that matches the validation rules. Rerun the notebook cells to explore how your arrangement reacts to local rearrangement searches.\n"
      ]
    }
  ],
  "metadata": {
    "kernelspec": {
      "display_name": "Python 3",
      "language": "python",
      "name": "python3"
    },
    "language_info": {
      "codemirror_mode": {
        "name": "ipython",
        "version": 3
      },
      "file_extension": ".py",
      "mimetype": "text/x-python",
      "name": "python",
      "nbconvert_exporter": "python",
      "pygments_lexer": "ipython3",
      "version": "3.12.1"
    }
  },
  "nbformat": 4,
  "nbformat_minor": 5
}
